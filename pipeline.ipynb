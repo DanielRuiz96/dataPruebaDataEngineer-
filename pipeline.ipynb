{
 "cells": [
  {
   "attachments": {},
   "cell_type": "markdown",
   "metadata": {},
   "source": [
    "# PRUEBA TECNICA INGENIERO DE DATOS PRAGMA"
   ]
  },
  {
   "cell_type": "code",
   "execution_count": 1163,
   "metadata": {},
   "outputs": [],
   "source": [
    "import pandas as pd\n",
    "import numpy as np\n"
   ]
  },
  {
   "attachments": {},
   "cell_type": "markdown",
   "metadata": {},
   "source": [
    "### RUTAS ARCHIVOS CSV"
   ]
  },
  {
   "cell_type": "code",
   "execution_count": 1164,
   "metadata": {},
   "outputs": [],
   "source": [
    "ruta_archivo_1 = './2012-1.csv'\n",
    "ruta_archivo_2 = './2012-2.csv'\n",
    "ruta_archivo_3 = './2012-3.csv'\n",
    "ruta_archivo_4 = './2012-4.csv'\n",
    "ruta_archivo_5 = './2012-5.csv'\n",
    "ruta_archivo_6 = './validation.csv'"
   ]
  },
  {
   "attachments": {},
   "cell_type": "markdown",
   "metadata": {},
   "source": [
    "### PRE-PROCESAMIENTO"
   ]
  },
  {
   "cell_type": "code",
   "execution_count": 1165,
   "metadata": {},
   "outputs": [],
   "source": [
    "def pre_procesamiento(ruta_archivo):\n",
    "    # Leer archivo .CSV\n",
    "    datos = pd.read_csv(ruta_archivo)\n",
    "    # Convertir formato de fecha a tipo Datetime\n",
    "    datos['timestamp'] = pd.to_datetime(datos['timestamp'],errors='coerce')\n",
    "    # Limpiar los datos con datos vacios\n",
    "    datos_clean = datos.dropna()\n",
    "    # Convertir los datos a una lista\n",
    "    lista_valores = datos_clean.values.tolist()\n",
    "    \n",
    "    return (lista_valores)"
   ]
  },
  {
   "attachments": {},
   "cell_type": "markdown",
   "metadata": {},
   "source": [
    "### CONEXIÓN BASE DE DATOS SQL"
   ]
  },
  {
   "cell_type": "code",
   "execution_count": 1166,
   "metadata": {},
   "outputs": [],
   "source": [
    "import mysql.connector as connection"
   ]
  },
  {
   "attachments": {},
   "cell_type": "markdown",
   "metadata": {},
   "source": [
    "### CONSULTAR ULTIMO REGISTRO"
   ]
  },
  {
   "cell_type": "code",
   "execution_count": 1167,
   "metadata": {},
   "outputs": [],
   "source": [
    "def consulta_ultimo_registro():\n",
    "\n",
    "    try:\n",
    "        mydb = connection.connect(host='localhost',database='Transacciones',user='root',passwd='12345')\n",
    "        query = \"\"\"SELECT * FROM transacciones.medida_datos\n",
    "                ORDER BY Conteo DESC\n",
    "                LIMIT 1\"\"\"\n",
    "        cursor = mydb.cursor()\n",
    "        cursor.execute(query)\n",
    "        resultado = cursor.fetchall()\n",
    "       \n",
    "    except Exception as e:\n",
    "        mydb.close()\n",
    "        print(str(e))\n",
    "    else:\n",
    "         return resultado"
   ]
  },
  {
   "attachments": {},
   "cell_type": "markdown",
   "metadata": {},
   "source": [
    "### ALMACENAMIENTO DE PROCESAMIENTO DE LOS DATOS"
   ]
  },
  {
   "cell_type": "code",
   "execution_count": 1168,
   "metadata": {},
   "outputs": [],
   "source": [
    "def almacenar_procesamiento(mediciones):\n",
    "\n",
    "    mydb = connection.connect(host='localhost',database='Transacciones',user='root',passwd='12345')\n",
    "\n",
    "    try:\n",
    "        query = \"\"\"INSERT INTO  medida_datos \n",
    "                (Conteo,Valor_medio,Valor_max,Valor_min) \n",
    "                VALUES (%s,%s,%s,%s)\"\"\"\n",
    "        cursor = mydb.cursor()\n",
    "        cursor.executemany(query,mediciones)\n",
    "        mydb.commit()\n",
    "        #print(cursor.fetchall())\n",
    "    except Exception as e:\n",
    "        mydb.close()\n",
    "        print(str(e))"
   ]
  },
  {
   "attachments": {},
   "cell_type": "markdown",
   "metadata": {},
   "source": [
    "### PROCESAMIENTO DE LOS DATOS"
   ]
  },
  {
   "cell_type": "code",
   "execution_count": 1169,
   "metadata": {},
   "outputs": [],
   "source": [
    "def procesamiento_datos(datos_clean):\n",
    "    valor_max = max(datos_clean)\n",
    "    valor_min = min(datos_clean)\n",
    "    valor_medio = np.mean(datos_clean)\n",
    "    count = len(datos_clean)\n",
    "    #valor_medio = valor_sumatoria / count\n",
    "    mediciones = [[count,valor_medio,valor_max,valor_min]]\n",
    "    #print((datos_clean))\n",
    "    #print((mediciones))\n",
    "    almacenar_procesamiento(mediciones)\n",
    "    "
   ]
  },
  {
   "attachments": {},
   "cell_type": "markdown",
   "metadata": {},
   "source": [
    "### ALMACENAMIENTO DE ARCHIVOS .CSV"
   ]
  },
  {
   "cell_type": "code",
   "execution_count": 1170,
   "metadata": {},
   "outputs": [],
   "source": [
    "lista_registro =[]"
   ]
  },
  {
   "cell_type": "code",
   "execution_count": 1171,
   "metadata": {},
   "outputs": [],
   "source": [
    "def almacenar_datos(lista_valores):\n",
    "    try:\n",
    "        mydb = connection.connect(host='localhost',database='Transacciones',user='root',passwd='12345')\n",
    "\n",
    "        for i in range (0,len(lista_valores),1):\n",
    "            query = \"\"\"INSERT INTO  datos_2012 \n",
    "                (Timestamp,Price,User_ID) \n",
    "                VALUES (%s,%s,%s)\"\"\"\n",
    "            cursor = mydb.cursor()\n",
    "            cursor.execute(query,lista_valores[i])\n",
    "            mydb.commit()\n",
    "            lista_registro.append(lista_valores[i][1])\n",
    "            procesamiento_datos(lista_registro)\n",
    "            \n",
    "    except Exception as e:\n",
    "        mydb.close()\n",
    "        print(str(e))\n",
    "    "
   ]
  },
  {
   "attachments": {},
   "cell_type": "markdown",
   "metadata": {},
   "source": [
    "## MAIN"
   ]
  },
  {
   "cell_type": "code",
   "execution_count": 1172,
   "metadata": {},
   "outputs": [],
   "source": [
    "\n",
    "#Ejecucion archivo_1\n",
    "\n",
    "datos_leido_1 = pre_procesamiento(ruta_archivo_1)\n",
    "almacenar_datos(datos_leido_1)\n",
    "\n",
    "#Ejecucion archivo_2\n",
    "\n",
    "datos_leido_2 = pre_procesamiento(ruta_archivo_2)\n",
    "almacenar_datos(datos_leido_2)\n",
    "\n",
    "#Ejecucion archivo_3\n",
    "\n",
    "datos_leido_3 = pre_procesamiento(ruta_archivo_3)\n",
    "almacenar_datos(datos_leido_3)\n",
    "\n",
    "#Ejecucion archivo_4\n",
    "\n",
    "datos_leido_4 = pre_procesamiento(ruta_archivo_4)\n",
    "almacenar_datos(datos_leido_4)\n",
    "\n",
    "#Ejecucion archivo_5\n",
    "\n",
    "datos_leido_5 = pre_procesamiento(ruta_archivo_5)\n",
    "almacenar_datos(datos_leido_5)\n",
    "\n",
    "#Ejecucion validation\n",
    "\n",
    "datos_leido_6 = pre_procesamiento(ruta_archivo_6)\n",
    "almacenar_datos(datos_leido_6)\n",
    " "
   ]
  }
 ],
 "metadata": {
  "kernelspec": {
   "display_name": "Python 3",
   "language": "python",
   "name": "python3"
  },
  "language_info": {
   "codemirror_mode": {
    "name": "ipython",
    "version": 3
   },
   "file_extension": ".py",
   "mimetype": "text/x-python",
   "name": "python",
   "nbconvert_exporter": "python",
   "pygments_lexer": "ipython3",
   "version": "3.11.1"
  },
  "orig_nbformat": 4,
  "vscode": {
   "interpreter": {
    "hash": "c86743c062b263ebeb3cb4bbe1cc692fc5f2a07465b21ad42fc0fd8a55c1ccdf"
   }
  }
 },
 "nbformat": 4,
 "nbformat_minor": 2
}
